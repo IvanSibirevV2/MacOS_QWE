{
 "cells": [
  {
   "cell_type": "markdown",
   "id": "06c5eca6",
   "metadata": {},
   "source": [
    "# список версий мак ос"
   ]
  },
  {
   "cell_type": "markdown",
   "id": "04114deb",
   "metadata": {},
   "source": [
    "- macOS Monterey\n",
    "- macOS Big Sur\n",
    "- macOS Catalina\n",
    "- macOS Mojave\n",
    "- macOS High Sierra\n",
    "- macOS Sierra\n",
    "- OS X El Capitan\n",
    "- OS X Yosemite\n",
    "- OS X Mavericks\n",
    "- OS X Mountain Lion\n",
    "- OS X Lion\n",
    "- Mac OS X Snow Leopard\n",
    "- Mac OS X Leopard\n",
    "- Mac OS X Tiger\n",
    "- Mac OS X Panther\n",
    "- Mac OS X 10.2 Jaguar -(10.2.0 - August 24, 2002)(10.2.1 - September 18, 2002)\n",
    "- Mac OS X 10.1 Puma - 25 September 2001\n",
    "- Mac OS X 10.0 Cheetah - в 2001 год."
   ]
  }
 ],
 "metadata": {
  "kernelspec": {
   "display_name": "Python 3 (ipykernel)",
   "language": "python",
   "name": "python3"
  },
  "language_info": {
   "codemirror_mode": {
    "name": "ipython",
    "version": 3
   },
   "file_extension": ".py",
   "mimetype": "text/x-python",
   "name": "python",
   "nbconvert_exporter": "python",
   "pygments_lexer": "ipython3",
   "version": "3.11.4"
  }
 },
 "nbformat": 4,
 "nbformat_minor": 5
}
